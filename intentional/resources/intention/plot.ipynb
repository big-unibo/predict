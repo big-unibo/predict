{
 "cells": [
  {
   "cell_type": "code",
   "metadata": {
    "ExecuteTime": {
     "end_time": "2025-02-28T13:11:32.762733Z",
     "start_time": "2025-02-28T13:11:32.750140Z"
    }
   },
   "source": [
    "import pandas as pd\n",
    "from matplotlib import rc\n",
    "import matplotlib.pyplot as plt\n",
    "#rc('font',**{'family':'sans-serif','sans-serif':['Helvetica']})\n",
    "# rc('font',**{'family':'serif','serif':['Times']})\n",
    "# rc('text', usetex=True)\n",
    "\n",
    "plt.rcParams[\"font.size\"] = 12\n",
    "plt.rcParams[\"font.family\"] = \"Times New Roman\"\n",
    "plt.rcParams[\"text.usetex\"] = True\n",
    "dfi = pd.read_csv(\"predict_intentions.csv\").drop_duplicates()\n",
    "dfi[dfi['execution_id'].str.contains(\"Foodmart\")]"
   ],
   "outputs": [
    {
     "data": {
      "text/plain": [
       "   execution_id  nullify  cardinality  missing_values  not_missing_values  \\\n",
       "51   Foodmart-1      5.0          323              16                 307   \n",
       "52   Foodmart-2      5.0          102               5                  97   \n",
       "53   Foodmart-3      5.0          323              16                 307   \n",
       "54   Foodmart-4      5.0          323              16                 307   \n",
       "\n",
       "    test_size  cardinality_acc  \n",
       "51         20         0.061920  \n",
       "52         20         0.196078  \n",
       "53         20         0.061920  \n",
       "54         20         0.061920  "
      ],
      "text/html": [
       "<div>\n",
       "<style scoped>\n",
       "    .dataframe tbody tr th:only-of-type {\n",
       "        vertical-align: middle;\n",
       "    }\n",
       "\n",
       "    .dataframe tbody tr th {\n",
       "        vertical-align: top;\n",
       "    }\n",
       "\n",
       "    .dataframe thead th {\n",
       "        text-align: right;\n",
       "    }\n",
       "</style>\n",
       "<table border=\"1\" class=\"dataframe\">\n",
       "  <thead>\n",
       "    <tr style=\"text-align: right;\">\n",
       "      <th></th>\n",
       "      <th>execution_id</th>\n",
       "      <th>nullify</th>\n",
       "      <th>cardinality</th>\n",
       "      <th>missing_values</th>\n",
       "      <th>not_missing_values</th>\n",
       "      <th>test_size</th>\n",
       "      <th>cardinality_acc</th>\n",
       "    </tr>\n",
       "  </thead>\n",
       "  <tbody>\n",
       "    <tr>\n",
       "      <th>51</th>\n",
       "      <td>Foodmart-1</td>\n",
       "      <td>5.0</td>\n",
       "      <td>323</td>\n",
       "      <td>16</td>\n",
       "      <td>307</td>\n",
       "      <td>20</td>\n",
       "      <td>0.061920</td>\n",
       "    </tr>\n",
       "    <tr>\n",
       "      <th>52</th>\n",
       "      <td>Foodmart-2</td>\n",
       "      <td>5.0</td>\n",
       "      <td>102</td>\n",
       "      <td>5</td>\n",
       "      <td>97</td>\n",
       "      <td>20</td>\n",
       "      <td>0.196078</td>\n",
       "    </tr>\n",
       "    <tr>\n",
       "      <th>53</th>\n",
       "      <td>Foodmart-3</td>\n",
       "      <td>5.0</td>\n",
       "      <td>323</td>\n",
       "      <td>16</td>\n",
       "      <td>307</td>\n",
       "      <td>20</td>\n",
       "      <td>0.061920</td>\n",
       "    </tr>\n",
       "    <tr>\n",
       "      <th>54</th>\n",
       "      <td>Foodmart-4</td>\n",
       "      <td>5.0</td>\n",
       "      <td>323</td>\n",
       "      <td>16</td>\n",
       "      <td>307</td>\n",
       "      <td>20</td>\n",
       "      <td>0.061920</td>\n",
       "    </tr>\n",
       "  </tbody>\n",
       "</table>\n",
       "</div>"
      ]
     },
     "execution_count": 18,
     "metadata": {},
     "output_type": "execute_result"
    }
   ],
   "execution_count": 18
  },
  {
   "cell_type": "code",
   "metadata": {
    "ExecuteTime": {
     "end_time": "2025-02-28T09:05:51.614598Z",
     "start_time": "2025-02-28T09:05:50.168078Z"
    }
   },
   "source": [
    "duplicated_values = dfi[dfi['execution_id'].duplicated(keep=False)]['execution_id'].unique()\n",
    "print(\"Duplicated values:\", duplicated_values)\n",
    "dfi[dfi['execution_id'].isin(duplicated_values)]"
   ],
   "outputs": [
    {
     "name": "stdout",
     "output_type": "stream",
     "text": [
      "Duplicated values: []\n"
     ]
    },
    {
     "data": {
      "text/plain": [
       "Empty DataFrame\n",
       "Columns: [execution_id, nullify, cardinality, missing_values, not_missing_values, test_size, cardinality_acc]\n",
       "Index: []"
      ],
      "text/html": [
       "<div>\n",
       "<style scoped>\n",
       "    .dataframe tbody tr th:only-of-type {\n",
       "        vertical-align: middle;\n",
       "    }\n",
       "\n",
       "    .dataframe tbody tr th {\n",
       "        vertical-align: top;\n",
       "    }\n",
       "\n",
       "    .dataframe thead th {\n",
       "        text-align: right;\n",
       "    }\n",
       "</style>\n",
       "<table border=\"1\" class=\"dataframe\">\n",
       "  <thead>\n",
       "    <tr style=\"text-align: right;\">\n",
       "      <th></th>\n",
       "      <th>execution_id</th>\n",
       "      <th>nullify</th>\n",
       "      <th>cardinality</th>\n",
       "      <th>missing_values</th>\n",
       "      <th>not_missing_values</th>\n",
       "      <th>test_size</th>\n",
       "      <th>cardinality_acc</th>\n",
       "    </tr>\n",
       "  </thead>\n",
       "  <tbody>\n",
       "  </tbody>\n",
       "</table>\n",
       "</div>"
      ]
     },
     "execution_count": 3,
     "metadata": {},
     "output_type": "execute_result"
    }
   ],
   "execution_count": 3
  },
  {
   "cell_type": "code",
   "metadata": {
    "ExecuteTime": {
     "end_time": "2025-02-28T13:14:44.064405Z",
     "start_time": "2025-02-28T13:14:44.053021Z"
    }
   },
   "source": [
    "dfm = pd.read_csv(\"predict_models.csv\")\n",
    "dfm\n",
    "# dfm[dfm['execution_id'].str.contains(\"Foodmart\")][[\"execution_id\", \"time\"]].groupby([\"execution_id\"]).sum()"
   ],
   "outputs": [
    {
     "data": {
      "text/plain": [
       "                             execution_id         model  time\n",
       "0    aebfb2ac-5177-4209-91c9-9f5062f888ff         pivot     1\n",
       "1    80936534-25cc-4adf-9dd5-726f3312ecf0         pivot     1\n",
       "2    faf2eb8a-6297-48a9-948c-eb3fb1957b89         pivot     1\n",
       "3    8178811c-563e-43c2-85d1-1ecc400150d3         pivot     1\n",
       "4    8afe0f06-be7d-41c3-b125-059c01ce13ea         pivot     1\n",
       "..                                    ...           ...   ...\n",
       "413  83fe358c-3e0c-4bda-a19f-59fc6a2866d7  randomForest     1\n",
       "414  331434fb-412a-4ab5-86bc-64b38ffab9fd  decisionTree     2\n",
       "415  331434fb-412a-4ab5-86bc-64b38ffab9fd  randomForest     1\n",
       "416  8ed8c3a4-1af3-4840-a04b-bbecf24df5d7  decisionTree     2\n",
       "417  8ed8c3a4-1af3-4840-a04b-bbecf24df5d7  randomForest     1\n",
       "\n",
       "[418 rows x 3 columns]"
      ],
      "text/html": [
       "<div>\n",
       "<style scoped>\n",
       "    .dataframe tbody tr th:only-of-type {\n",
       "        vertical-align: middle;\n",
       "    }\n",
       "\n",
       "    .dataframe tbody tr th {\n",
       "        vertical-align: top;\n",
       "    }\n",
       "\n",
       "    .dataframe thead th {\n",
       "        text-align: right;\n",
       "    }\n",
       "</style>\n",
       "<table border=\"1\" class=\"dataframe\">\n",
       "  <thead>\n",
       "    <tr style=\"text-align: right;\">\n",
       "      <th></th>\n",
       "      <th>execution_id</th>\n",
       "      <th>model</th>\n",
       "      <th>time</th>\n",
       "    </tr>\n",
       "  </thead>\n",
       "  <tbody>\n",
       "    <tr>\n",
       "      <th>0</th>\n",
       "      <td>aebfb2ac-5177-4209-91c9-9f5062f888ff</td>\n",
       "      <td>pivot</td>\n",
       "      <td>1</td>\n",
       "    </tr>\n",
       "    <tr>\n",
       "      <th>1</th>\n",
       "      <td>80936534-25cc-4adf-9dd5-726f3312ecf0</td>\n",
       "      <td>pivot</td>\n",
       "      <td>1</td>\n",
       "    </tr>\n",
       "    <tr>\n",
       "      <th>2</th>\n",
       "      <td>faf2eb8a-6297-48a9-948c-eb3fb1957b89</td>\n",
       "      <td>pivot</td>\n",
       "      <td>1</td>\n",
       "    </tr>\n",
       "    <tr>\n",
       "      <th>3</th>\n",
       "      <td>8178811c-563e-43c2-85d1-1ecc400150d3</td>\n",
       "      <td>pivot</td>\n",
       "      <td>1</td>\n",
       "    </tr>\n",
       "    <tr>\n",
       "      <th>4</th>\n",
       "      <td>8afe0f06-be7d-41c3-b125-059c01ce13ea</td>\n",
       "      <td>pivot</td>\n",
       "      <td>1</td>\n",
       "    </tr>\n",
       "    <tr>\n",
       "      <th>...</th>\n",
       "      <td>...</td>\n",
       "      <td>...</td>\n",
       "      <td>...</td>\n",
       "    </tr>\n",
       "    <tr>\n",
       "      <th>413</th>\n",
       "      <td>83fe358c-3e0c-4bda-a19f-59fc6a2866d7</td>\n",
       "      <td>randomForest</td>\n",
       "      <td>1</td>\n",
       "    </tr>\n",
       "    <tr>\n",
       "      <th>414</th>\n",
       "      <td>331434fb-412a-4ab5-86bc-64b38ffab9fd</td>\n",
       "      <td>decisionTree</td>\n",
       "      <td>2</td>\n",
       "    </tr>\n",
       "    <tr>\n",
       "      <th>415</th>\n",
       "      <td>331434fb-412a-4ab5-86bc-64b38ffab9fd</td>\n",
       "      <td>randomForest</td>\n",
       "      <td>1</td>\n",
       "    </tr>\n",
       "    <tr>\n",
       "      <th>416</th>\n",
       "      <td>8ed8c3a4-1af3-4840-a04b-bbecf24df5d7</td>\n",
       "      <td>decisionTree</td>\n",
       "      <td>2</td>\n",
       "    </tr>\n",
       "    <tr>\n",
       "      <th>417</th>\n",
       "      <td>8ed8c3a4-1af3-4840-a04b-bbecf24df5d7</td>\n",
       "      <td>randomForest</td>\n",
       "      <td>1</td>\n",
       "    </tr>\n",
       "  </tbody>\n",
       "</table>\n",
       "<p>418 rows × 3 columns</p>\n",
       "</div>"
      ]
     },
     "execution_count": 23,
     "metadata": {},
     "output_type": "execute_result"
    }
   ],
   "execution_count": 23
  },
  {
   "cell_type": "code",
   "metadata": {
    "ExecuteTime": {
     "end_time": "2025-02-28T13:15:47.659174Z",
     "start_time": "2025-02-28T13:15:47.625494Z"
    }
   },
   "source": [
    "dfc = pd.read_csv(\"predict_components.csv\")\n",
    "dfc[\"success_time\"] = dfc.apply(lambda x: x[\"success_time\"] if x[\"success_time\"] > 0 else x[\"component_time\"], axis=1)\n",
    "dfc[\"component_time\"] = dfc.apply(lambda x: ((x[\"success_time\"] / x[\"success\"]) * 21) if x[\"success\"] > 0 else float('inf'), axis=1).astype(float)\n",
    "# dfc[dfc[\"model\"] == \"multivariateTS\"]\n",
    "dfc[dfc[\"execution_id\"].str.contains(\"Foodmart\")][[\"execution_id\", \"interest\"]].groupby([\"execution_id\"]).max()"
   ],
   "outputs": [
    {
     "data": {
      "text/plain": [
       "              interest\n",
       "execution_id          \n",
       "Foodmart-1    1.000000\n",
       "Foodmart-2    0.949021\n",
       "Foodmart-3    0.427842\n",
       "Foodmart-4    1.000000"
      ],
      "text/html": [
       "<div>\n",
       "<style scoped>\n",
       "    .dataframe tbody tr th:only-of-type {\n",
       "        vertical-align: middle;\n",
       "    }\n",
       "\n",
       "    .dataframe tbody tr th {\n",
       "        vertical-align: top;\n",
       "    }\n",
       "\n",
       "    .dataframe thead th {\n",
       "        text-align: right;\n",
       "    }\n",
       "</style>\n",
       "<table border=\"1\" class=\"dataframe\">\n",
       "  <thead>\n",
       "    <tr style=\"text-align: right;\">\n",
       "      <th></th>\n",
       "      <th>interest</th>\n",
       "    </tr>\n",
       "    <tr>\n",
       "      <th>execution_id</th>\n",
       "      <th></th>\n",
       "    </tr>\n",
       "  </thead>\n",
       "  <tbody>\n",
       "    <tr>\n",
       "      <th>Foodmart-1</th>\n",
       "      <td>1.000000</td>\n",
       "    </tr>\n",
       "    <tr>\n",
       "      <th>Foodmart-2</th>\n",
       "      <td>0.949021</td>\n",
       "    </tr>\n",
       "    <tr>\n",
       "      <th>Foodmart-3</th>\n",
       "      <td>0.427842</td>\n",
       "    </tr>\n",
       "    <tr>\n",
       "      <th>Foodmart-4</th>\n",
       "      <td>1.000000</td>\n",
       "    </tr>\n",
       "  </tbody>\n",
       "</table>\n",
       "</div>"
      ]
     },
     "execution_count": 24,
     "metadata": {},
     "output_type": "execute_result"
    }
   ],
   "execution_count": 24
  },
  {
   "cell_type": "code",
   "metadata": {
    "ExecuteTime": {
     "end_time": "2025-02-28T09:05:53.776485Z",
     "start_time": "2025-02-28T09:05:52.399152Z"
    }
   },
   "source": [
    "import shutil\n",
    "import matplotlib\n",
    "from matplotlib.ticker import MaxNLocator\n",
    "\n",
    "\n",
    "def plot(s, title=\"\"):\n",
    "    if len(title) == 0: title = s\n",
    "    filtered = dfc[dfc['execution_id'].str.contains(s)] #  & dfc['model'].isin(values_to_check) \n",
    "    values_to_check = filtered[\"model\"].unique()        # [\"timeDecisionTree\", \"timeRandomForest\", \"univariateTS\", \"decisionTree\", \"randomForest\", \"multivariateTS\"] \n",
    "    filtered = filtered.merge(dfi, on=[\"execution_id\"])\n",
    "    filtered = filtered.drop(filtered[(filtered['execution_id'].str.contains(\"-122-\")) & (filtered['model'] == \"multivariateTS\") & (filtered['cardinality'] > 400)].index)\n",
    "    filtered = filtered.drop(filtered[(filtered['execution_id'].str.contains(\"-120-\")) & (filtered['cardinality'] > 14000)].index)\n",
    "    filtered[\"cardinality\"] = filtered[\"cardinality\"].astype(int)\n",
    "    filtered[\"Predicted values\"] = (filtered[\"cardinality\"] * 0.05).astype(int)\n",
    "    filtered[\"component_time\"] = filtered[\"component_time\"].astype(int) / 1000\n",
    "    filtered = filtered.rename({\"cardinality\": \"$|C|$\", \"component_time\": \"Time (s)\", \"interest\": \"Interest\", \"model\": \"Model\"}, axis=1)\n",
    "    # print(filtered)\n",
    "    x = \"$|C|$\"\n",
    "    if '-116-' in s or '-117-' in s or '-200-' in s:\n",
    "        filtered[\"$|In|$\"] = filtered['execution_id'].apply(lambda s: int(s.split('-')[-1]) + 1).astype(int)\n",
    "        x = \"$|In|$\"\n",
    "    elif '-202-' in s:\n",
    "        x = \"Time span\"\n",
    "        filtered[\"Time span\"] = filtered[\"$|C|$\"].apply(lambda x: '1 year' if x == 33 else ('2 years' if x == 86 else ('3 years' if x == 136 else None)))  # filtered['test_size'].apply(lambda s: f\"{int(s)}\\%\")\n",
    "    if '-200-' in s:\n",
    "        x = \"$p$\"\n",
    "        filtered[x] = filtered[\"$|In|$\"]\n",
    "    df = filtered\n",
    "    def color_mapper(m):\n",
    "        if m in [\"decisionTree\", \"dT\"]:\n",
    "            return 'tab:blue'\n",
    "        elif m in [\"timeDecisionTree\", \"timeDT\"]:\n",
    "            return 'tab:orange'\n",
    "        elif m in [\"randomForest\", \"rF\"]:\n",
    "            return 'tab:green'\n",
    "        elif m in [\"timeRandomForest\", \"timeRF\"]:\n",
    "            return 'tab:red'\n",
    "        elif m == \"univariateTS\":\n",
    "            return 'tab:purple'\n",
    "        elif m == \"multivariateTS\":\n",
    "            return 'tab:brown'\n",
    "        else:\n",
    "            print(m)\n",
    "    \n",
    "    fig, axs = plt.subplots(1, 2, figsize=(8 * 1, 3 * 1)) #, sharey=True \n",
    "    axs = axs.flatten()\n",
    "    i = 0\n",
    "    ax = axs[i + 1] \n",
    "    var, agg = \"accuracy\", \"mean\" # \"Interest\", \"max\" # \n",
    "    df[\"Interest\"] = df[\"Interest\"].apply(lambda x: max(0, x))\n",
    "    df[\"Interest2\"] = df[\"Interest\"]\n",
    "    df[\"accuracy\"] = df[\"accuracy\"].apply(lambda x: max(0, x))\n",
    "    df[\"accuracy2\"] = df[\"accuracy\"]    \n",
    "    dff = df \\\n",
    "            .groupby([\"execution_id\", \"Model\", \"component\", \"$|C|$\"] + ([x] if '-202-' in s else []) + ([x] if '-116-' in s or '-117-' in s or '-200-' in s else [])) \\\n",
    "            .median() \\\n",
    "            .reset_index() \\\n",
    "            .groupby([\"Model\", x]) \\\n",
    "            .agg({\"Time (s)\": \"sum\", var: agg, f\"{var}2\": \"std\"})\n",
    "    \n",
    "    dff = dff.reset_index()\n",
    "    print(f\"\\n\\n MAX STD: {dff[f'{var}2'].max()}\\n\\n\")\n",
    "    models = sorted(dff[\"Model\"].unique())\n",
    "    if \"$|In|$\" in dff.columns:\n",
    "        dff[\"$|In|$\"] = dff[\"$|In|$\"].astype(int) \n",
    "        ax.xaxis.set_major_locator(MaxNLocator(integer=True))\n",
    "    for model in models:\n",
    "        dff[dff[\"Model\"] == model].plot(x=x, y=\"Time (s)\", kind=\"line\", ax=ax, label=model, c=color_mapper(model), legend=False) \n",
    "    ax.set_yscale('log')\n",
    "\n",
    "    c, p = 1, 0\n",
    "    while dff[\"Time (s)\"].max() > c:\n",
    "        c *= 10\n",
    "        p += 1\n",
    "    ax.set_yticks([10 ** x for x in range(0, p+1)])\n",
    "    ax.set_title(\"Model time\")\n",
    "    ax.set_ylabel('Time (s)')\n",
    "    ax.grid()\n",
    "    fig2, ax2 = plt.subplots(1, 1, figsize=(4, 3))\n",
    "\n",
    "    pdf = dff \\\n",
    "        .pivot(index=x, columns=\"Model\", values=var) \\\n",
    "        .clip(lower=0)\n",
    "    # print(pdf)\n",
    "    \n",
    "    colors = [color_mapper(col) for col in pdf.columns]\n",
    "    pdf.plot(kind='bar', ax=ax2, legend=False, color=colors, rot=0, width=0.8)  # , yerr=[0.1, 0.6, 0.1]\n",
    "    legend = ax2.legend(bbox_to_anchor=(0.0, 1.2), ncol=3, loc=2, borderaxespad=0., fontsize=10)\n",
    "    ax2.set_ylabel(\"$\" + var + \"$ (avg)\")\n",
    "    legend.remove()\n",
    "    ax2.grid()\n",
    "    fig2.tight_layout()\n",
    "    fig2.savefig(f\"{title}-col.svg\")\n",
    "    fig2.savefig(f\"{title}-col.pdf\")\n",
    "\n",
    "    dff.pivot(index=\"Model\", columns=x, values=\"Time (s)\").to_latex(title + \"-model-time.tex\", float_format=\"{:.2f}\".format)\n",
    "    print(\"\")\n",
    "    dff.pivot(index=\"Model\", columns=x, values=var).to_latex(title + \"-model-int.tex\", float_format=\"{:.2f}\".format)\n",
    "\n",
    "    ax = axs[i]\n",
    "    dff = dff.groupby([x]).agg({\"Time (s)\": \"sum\", var: agg})\n",
    "    dff = dff.reset_index()\n",
    "    if \"$|In|$\" in dff.columns:\n",
    "        dff[\"$|In|$\"] = dff[\"$|In|$\"].astype(int) \n",
    "        ax.xaxis.set_major_locator(MaxNLocator(integer=True))\n",
    "    dff[\"Intention\"] = range(0, len(dff))\n",
    "    dff[\"Intention\"] = \"I\" + dff[\"Intention\"].astype(str)\n",
    "    dff.index = dff[\"Intention\"]\n",
    "    dff = dff.drop(\"Intention\", axis=1)\n",
    "    if \"-122-\" not in s:\n",
    "        dff.plot(x=x, y=\"Time (s)\", kind=\"line\", ax=ax, legend=False, c=\"black\")\n",
    "    else: \n",
    "        dff[dff[\"$|C|$\"] < 400].plot(x=x, y=\"Time (s)\", kind=\"line\", ax=ax, legend=False, c=\"black\")\n",
    "        dff[dff[\"$|C|$\"] > 400].plot(x=x, y=\"Time (s)\", kind=\"line\", ax=ax, legend=False, c=\"black\")\n",
    "\n",
    "    ax.set_title(\"Total time\")\n",
    "    ax.set_ylabel('Time (s)')\n",
    "    ax.grid()\n",
    "    fig.tight_layout()\n",
    "    fig.savefig(f\"{title}.svg\")\n",
    "    fig.savefig(f\"{title}.pdf\")\n",
    "    dff.transpose().to_latex(title + \"-overall.tex\", float_format=\"{:.2f}\".format)\n",
    "\n",
    "try:\n",
    "    plot('-120-', title=\"scal-time\")\n",
    "except:\n",
    "    print()"
   ],
   "outputs": [
    {
     "name": "stdout",
     "output_type": "stream",
     "text": [
      "\n",
      "\n",
      " MAX STD: 0.35155375792034865\n",
      "\n",
      "\n"
     ]
    },
    {
     "name": "stderr",
     "output_type": "stream",
     "text": [
      "/tmp/ipykernel_1265296/3090943626.py:96: FutureWarning: In future versions `DataFrame.to_latex` is expected to utilise the base implementation of `Styler.to_latex` for formatting and rendering. The arguments signature may therefore change. It is recommended instead to use `DataFrame.style.to_latex` which also contains additional functionality.\n",
      "  dff.pivot(index=\"Model\", columns=x, values=\"Time (s)\").to_latex(title + \"-model-time.tex\", float_format=\"{:.2f}\".format)\n",
      "/tmp/ipykernel_1265296/3090943626.py:98: FutureWarning: In future versions `DataFrame.to_latex` is expected to utilise the base implementation of `Styler.to_latex` for formatting and rendering. The arguments signature may therefore change. It is recommended instead to use `DataFrame.style.to_latex` which also contains additional functionality.\n",
      "  dff.pivot(index=\"Model\", columns=x, values=var).to_latex(title + \"-model-int.tex\", float_format=\"{:.2f}\".format)\n"
     ]
    },
    {
     "name": "stdout",
     "output_type": "stream",
     "text": [
      "\n"
     ]
    },
    {
     "name": "stderr",
     "output_type": "stream",
     "text": [
      "/tmp/ipykernel_1265296/3090943626.py:122: FutureWarning: In future versions `DataFrame.to_latex` is expected to utilise the base implementation of `Styler.to_latex` for formatting and rendering. The arguments signature may therefore change. It is recommended instead to use `DataFrame.style.to_latex` which also contains additional functionality.\n",
      "  dff.transpose().to_latex(title + \"-overall.tex\", float_format=\"{:.2f}\".format)\n"
     ]
    },
    {
     "data": {
      "text/plain": [
       "<Figure size 800x300 with 2 Axes>"
      ],
      "image/png": "[encoded data removed]"
     },
     "metadata": {},
     "output_type": "display_data"
    },
    {
     "data": {
      "text/plain": [
       "<Figure size 400x300 with 1 Axes>"
      ],
      "image/png": "[encoded data removed]"
     },
     "metadata": {},
     "output_type": "display_data"
    }
   ],
   "execution_count": 6
  },
  {
   "cell_type": "code",
   "metadata": {
    "ExecuteTime": {
     "end_time": "2025-02-28T09:05:54.913493Z",
     "start_time": "2025-02-28T09:05:53.832164Z"
    }
   },
   "source": [
    "try:\n",
    "    plot('-122-', title=\"scal-slices\")\n",
    "except:\n",
    "    print()"
   ],
   "outputs": [
    {
     "name": "stdout",
     "output_type": "stream",
     "text": [
      "\n",
      "\n",
      " MAX STD: 0.43113461596284713\n",
      "\n",
      "\n"
     ]
    },
    {
     "name": "stderr",
     "output_type": "stream",
     "text": [
      "/tmp/ipykernel_1265296/3090943626.py:96: FutureWarning: In future versions `DataFrame.to_latex` is expected to utilise the base implementation of `Styler.to_latex` for formatting and rendering. The arguments signature may therefore change. It is recommended instead to use `DataFrame.style.to_latex` which also contains additional functionality.\n",
      "  dff.pivot(index=\"Model\", columns=x, values=\"Time (s)\").to_latex(title + \"-model-time.tex\", float_format=\"{:.2f}\".format)\n",
      "/tmp/ipykernel_1265296/3090943626.py:98: FutureWarning: In future versions `DataFrame.to_latex` is expected to utilise the base implementation of `Styler.to_latex` for formatting and rendering. The arguments signature may therefore change. It is recommended instead to use `DataFrame.style.to_latex` which also contains additional functionality.\n",
      "  dff.pivot(index=\"Model\", columns=x, values=var).to_latex(title + \"-model-int.tex\", float_format=\"{:.2f}\".format)\n"
     ]
    },
    {
     "name": "stdout",
     "output_type": "stream",
     "text": [
      "\n"
     ]
    },
    {
     "name": "stderr",
     "output_type": "stream",
     "text": [
      "/tmp/ipykernel_1265296/3090943626.py:122: FutureWarning: In future versions `DataFrame.to_latex` is expected to utilise the base implementation of `Styler.to_latex` for formatting and rendering. The arguments signature may therefore change. It is recommended instead to use `DataFrame.style.to_latex` which also contains additional functionality.\n",
      "  dff.transpose().to_latex(title + \"-overall.tex\", float_format=\"{:.2f}\".format)\n"
     ]
    },
    {
     "data": {
      "text/plain": [
       "<Figure size 800x300 with 2 Axes>"
      ],
      "image/png": "[encoded data removed]"
     },
     "metadata": {},
     "output_type": "display_data"
    },
    {
     "data": {
      "text/plain": [
       "<Figure size 400x300 with 1 Axes>"
      ],
      "image/png": "[encoded data removed]"
     },
     "metadata": {},
     "output_type": "display_data"
    }
   ],
   "execution_count": 7
  },
  {
   "metadata": {
    "ExecuteTime": {
     "end_time": "2025-02-28T09:07:26.521145Z",
     "start_time": "2025-02-28T09:07:24.825688Z"
    }
   },
   "cell_type": "code",
   "source": [
    "try:\n",
    "    plot('Foodmart', title=\"foodmart\")\n",
    "except:\n",
    "    print()"
   ],
   "outputs": [
    {
     "name": "stdout",
     "output_type": "stream",
     "text": [
      "\n",
      "\n",
      " MAX STD: 0.5638555451292487\n",
      "\n",
      "\n"
     ]
    },
    {
     "name": "stderr",
     "output_type": "stream",
     "text": [
      "/tmp/ipykernel_1265296/3090943626.py:96: FutureWarning: In future versions `DataFrame.to_latex` is expected to utilise the base implementation of `Styler.to_latex` for formatting and rendering. The arguments signature may therefore change. It is recommended instead to use `DataFrame.style.to_latex` which also contains additional functionality.\n",
      "  dff.pivot(index=\"Model\", columns=x, values=\"Time (s)\").to_latex(title + \"-model-time.tex\", float_format=\"{:.2f}\".format)\n",
      "/tmp/ipykernel_1265296/3090943626.py:98: FutureWarning: In future versions `DataFrame.to_latex` is expected to utilise the base implementation of `Styler.to_latex` for formatting and rendering. The arguments signature may therefore change. It is recommended instead to use `DataFrame.style.to_latex` which also contains additional functionality.\n",
      "  dff.pivot(index=\"Model\", columns=x, values=var).to_latex(title + \"-model-int.tex\", float_format=\"{:.2f}\".format)\n"
     ]
    },
    {
     "name": "stdout",
     "output_type": "stream",
     "text": [
      "\n"
     ]
    },
    {
     "name": "stderr",
     "output_type": "stream",
     "text": [
      "/tmp/ipykernel_1265296/3090943626.py:122: FutureWarning: In future versions `DataFrame.to_latex` is expected to utilise the base implementation of `Styler.to_latex` for formatting and rendering. The arguments signature may therefore change. It is recommended instead to use `DataFrame.style.to_latex` which also contains additional functionality.\n",
      "  dff.transpose().to_latex(title + \"-overall.tex\", float_format=\"{:.2f}\".format)\n"
     ]
    },
    {
     "data": {
      "text/plain": [
       "<Figure size 800x300 with 2 Axes>"
      ],
      "image/png": "[encoded data removed]"
     },
     "metadata": {},
     "output_type": "display_data"
    },
    {
     "data": {
      "text/plain": [
       "<Figure size 400x300 with 1 Axes>"
      ],
      "image/png": "[encoded data removed]"
     },
     "metadata": {},
     "output_type": "display_data"
    }
   ],
   "execution_count": 14
  },
  {
   "cell_type": "code",
   "metadata": {
    "ExecuteTime": {
     "end_time": "2025-02-28T09:06:58.414076Z",
     "start_time": "2025-02-28T09:06:58.405057Z"
    }
   },
   "source": [
    "try: \n",
    "    plot('-117-', title=\"eff-in\")\n",
    "except:\n",
    "    print()"
   ],
   "outputs": [
    {
     "name": "stdout",
     "output_type": "stream",
     "text": [
      "\n"
     ]
    }
   ],
   "execution_count": 13
  },
  {
   "cell_type": "code",
   "metadata": {
    "ExecuteTime": {
     "end_time": "2025-02-28T09:05:55.005953Z",
     "start_time": "2025-02-28T09:05:54.980315Z"
    }
   },
   "source": [
    "try:\n",
    "    plot('-200-', title=\"eff-extknow\")\n",
    "except:\n",
    "    print()"
   ],
   "outputs": [
    {
     "name": "stdout",
     "output_type": "stream",
     "text": [
      "\n"
     ]
    }
   ],
   "execution_count": 9
  },
  {
   "cell_type": "code",
   "metadata": {
    "ExecuteTime": {
     "end_time": "2025-02-28T09:05:55.096880Z",
     "start_time": "2025-02-28T09:05:55.031940Z"
    }
   },
   "source": [
    "try:\n",
    "    plot('-202-', title=\"eff-horizon\")\n",
    "except:\n",
    "    print()"
   ],
   "outputs": [
    {
     "name": "stdout",
     "output_type": "stream",
     "text": [
      "\n"
     ]
    }
   ],
   "execution_count": 10
  },
  {
   "cell_type": "code",
   "metadata": {
    "ExecuteTime": {
     "end_time": "2025-02-28T09:05:55.191989Z",
     "start_time": "2025-02-28T09:05:55.108358Z"
    }
   },
   "source": [
    "try:\n",
    "    plot('-119-', title=\"eff-slices\")\n",
    "except:\n",
    "    print()"
   ],
   "outputs": [
    {
     "name": "stdout",
     "output_type": "stream",
     "text": [
      "\n"
     ]
    }
   ],
   "execution_count": 11
  },
  {
   "cell_type": "code",
   "metadata": {
    "ExecuteTime": {
     "end_time": "2025-02-28T09:05:55.950349Z",
     "start_time": "2025-02-28T09:05:55.211894Z"
    }
   },
   "source": [
    "filtered = dfc[dfc['execution_id'].str.contains(\"119\")] #  & dfc['model'].isin(values_to_check) \n",
    "values_to_check = filtered[\"model\"].unique()        # [\"timeDecisionTree\", \"timeRandomForest\", \"univariateTS\", \"decisionTree\", \"randomForest\", \"multivariateTS\"] \n",
    "filtered = filtered.merge(dfi, on=[\"execution_id\"])\n",
    "filtered = filtered.drop(filtered[(filtered['execution_id'].str.contains(\"-122-\")) & (filtered['model'] == \"multivariateTS\") & (filtered['cardinality'] > 400)].index)\n",
    "filtered = filtered.drop(filtered[(filtered['execution_id'].str.contains(\"-120-\")) & (filtered['cardinality'] > 14000)].index)\n",
    "filtered[\"model\"] = filtered[\"model\"].apply(lambda x: x.replace(\"Decision\", \"Regression\"))\n",
    "filtered[\"cardinality\"] = filtered[\"cardinality\"].astype(int)\n",
    "filtered[\"Predicted values\"] = (filtered[\"cardinality\"] * 0.05).astype(int)\n",
    "filtered[\"component_time\"] = filtered[\"component_time\"].astype(int) / 1000\n",
    "filtered = filtered[filtered['cardinality'] == 274] #  & dfc['model'].isin(values_to_check) \n",
    "filtered = filtered.sort_values(\"component_time\")\n",
    "# filtered = filtered[[\"component_time\", \"interest\"]].groupby(\"component_time\").max().reset_index()\n",
    "filtered[\"max\"] = filtered[\"interest\"].cummax() #.rolling(window=2).max().reset_index(drop=True).rolling(window=2).max().reset_index(drop=True)\n",
    "filtered[[\"component_time\", \"max\", \"model\"]].reset_index(drop=True)\n",
    "fig,ax = plt.subplots(1, 1, figsize=(4, 3))\n",
    "filtered = filtered.dropna().reset_index(drop=True)\n",
    "filtered = pd.concat([pd.DataFrame([[0.1, 0]], columns=[\"component_time\", \"max\"]), filtered])\n",
    "filtered = filtered[filtered['max'] != filtered['max'].shift()].reset_index(drop=True)\n",
    "filtered.iloc[3, filtered.columns.get_loc('component_time')] += + 0.05\n",
    "def color_mapper(m):\n",
    "    if m in [\"decisionTree\", \"dT\"]:\n",
    "        return 'tab:blue'\n",
    "    elif m in [\"timeDecisionTree\", \"timeDT\", \"timeRegressionTree\"]:\n",
    "        return 'tab:orange'\n",
    "    elif m in [\"randomForest\", \"rF\"]:\n",
    "        return 'tab:green'\n",
    "    elif m in [\"timeRandomForest\", \"timeRF\"]:\n",
    "        return 'tab:red'\n",
    "    elif m == \"univariateTS\":\n",
    "        return 'tab:purple'\n",
    "    elif m == \"multivariateTS\":\n",
    "        return 'tab:brown'\n",
    "    else:\n",
    "        print(m)\n",
    "# print(filtered)            \n",
    "filtered[\"color\"] = filtered[\"model\"].apply(color_mapper)\n",
    "# filtered.plot(x=\"component_time\", y=\"max\", ax=ax, legend=\"interest\")\n",
    "ax.set_xscale('log')\n",
    "ax.grid()\n",
    "for x in filtered[\"model\"].unique():\n",
    "    ffiltered = filtered[filtered[\"model\"] == x]\n",
    "    if len(ffiltered) > 0 and x != \"nan\":\n",
    "        ax.scatter(ffiltered['component_time'], ffiltered['interest'], color=ffiltered['color'], s=100, zorder=5, label=x)\n",
    "ax.step(filtered['component_time'], filtered['max'], where='post', marker=None, color='black')\n",
    "ax.set_xlabel('Time (s)')\n",
    "ax.set_ylabel(\"$interest$ (max)\")\n",
    "ax.legend()\n",
    "fig.tight_layout()\n",
    "fig.savefig(\"intovertime.svg\")\n",
    "fig.savefig(\"intovertime.pdf\")\n",
    "print(filtered[[\"component_time\", \"max\"]].to_latex(index=False))"
   ],
   "outputs": [
    {
     "ename": "IntCastingNaNError",
     "evalue": "Cannot convert non-finite values (NA or inf) to integer",
     "output_type": "error",
     "traceback": [
      "\u001B[0;31m---------------------------------------------------------------------------\u001B[0m",
      "\u001B[0;31mIntCastingNaNError\u001B[0m                        Traceback (most recent call last)",
      "Cell \u001B[0;32mIn[12], line 9\u001B[0m\n\u001B[1;32m      7\u001B[0m filtered[\u001B[38;5;124m\"\u001B[39m\u001B[38;5;124mcardinality\u001B[39m\u001B[38;5;124m\"\u001B[39m] \u001B[38;5;241m=\u001B[39m filtered[\u001B[38;5;124m\"\u001B[39m\u001B[38;5;124mcardinality\u001B[39m\u001B[38;5;124m\"\u001B[39m]\u001B[38;5;241m.\u001B[39mastype(\u001B[38;5;28mint\u001B[39m)\n\u001B[1;32m      8\u001B[0m filtered[\u001B[38;5;124m\"\u001B[39m\u001B[38;5;124mPredicted values\u001B[39m\u001B[38;5;124m\"\u001B[39m] \u001B[38;5;241m=\u001B[39m (filtered[\u001B[38;5;124m\"\u001B[39m\u001B[38;5;124mcardinality\u001B[39m\u001B[38;5;124m\"\u001B[39m] \u001B[38;5;241m*\u001B[39m \u001B[38;5;241m0.05\u001B[39m)\u001B[38;5;241m.\u001B[39mastype(\u001B[38;5;28mint\u001B[39m)\n\u001B[0;32m----> 9\u001B[0m filtered[\u001B[38;5;124m\"\u001B[39m\u001B[38;5;124mcomponent_time\u001B[39m\u001B[38;5;124m\"\u001B[39m] \u001B[38;5;241m=\u001B[39m \u001B[43mfiltered\u001B[49m\u001B[43m[\u001B[49m\u001B[38;5;124;43m\"\u001B[39;49m\u001B[38;5;124;43mcomponent_time\u001B[39;49m\u001B[38;5;124;43m\"\u001B[39;49m\u001B[43m]\u001B[49m\u001B[38;5;241;43m.\u001B[39;49m\u001B[43mastype\u001B[49m\u001B[43m(\u001B[49m\u001B[38;5;28;43mint\u001B[39;49m\u001B[43m)\u001B[49m \u001B[38;5;241m/\u001B[39m \u001B[38;5;241m1000\u001B[39m\n\u001B[1;32m     10\u001B[0m filtered \u001B[38;5;241m=\u001B[39m filtered[filtered[\u001B[38;5;124m'\u001B[39m\u001B[38;5;124mcardinality\u001B[39m\u001B[38;5;124m'\u001B[39m] \u001B[38;5;241m==\u001B[39m \u001B[38;5;241m274\u001B[39m] \u001B[38;5;66;03m#  & dfc['model'].isin(values_to_check) \u001B[39;00m\n\u001B[1;32m     11\u001B[0m filtered \u001B[38;5;241m=\u001B[39m filtered\u001B[38;5;241m.\u001B[39msort_values(\u001B[38;5;124m\"\u001B[39m\u001B[38;5;124mcomponent_time\u001B[39m\u001B[38;5;124m\"\u001B[39m)\n",
      "File \u001B[0;32m~/predict/intentional/src/main/python/venv/lib/python3.8/site-packages/pandas/core/generic.py:6240\u001B[0m, in \u001B[0;36mNDFrame.astype\u001B[0;34m(self, dtype, copy, errors)\u001B[0m\n\u001B[1;32m   6233\u001B[0m     results \u001B[38;5;241m=\u001B[39m [\n\u001B[1;32m   6234\u001B[0m         \u001B[38;5;28mself\u001B[39m\u001B[38;5;241m.\u001B[39miloc[:, i]\u001B[38;5;241m.\u001B[39mastype(dtype, copy\u001B[38;5;241m=\u001B[39mcopy)\n\u001B[1;32m   6235\u001B[0m         \u001B[38;5;28;01mfor\u001B[39;00m i \u001B[38;5;129;01min\u001B[39;00m \u001B[38;5;28mrange\u001B[39m(\u001B[38;5;28mlen\u001B[39m(\u001B[38;5;28mself\u001B[39m\u001B[38;5;241m.\u001B[39mcolumns))\n\u001B[1;32m   6236\u001B[0m     ]\n\u001B[1;32m   6238\u001B[0m \u001B[38;5;28;01melse\u001B[39;00m:\n\u001B[1;32m   6239\u001B[0m     \u001B[38;5;66;03m# else, only a single dtype is given\u001B[39;00m\n\u001B[0;32m-> 6240\u001B[0m     new_data \u001B[38;5;241m=\u001B[39m \u001B[38;5;28;43mself\u001B[39;49m\u001B[38;5;241;43m.\u001B[39;49m\u001B[43m_mgr\u001B[49m\u001B[38;5;241;43m.\u001B[39;49m\u001B[43mastype\u001B[49m\u001B[43m(\u001B[49m\u001B[43mdtype\u001B[49m\u001B[38;5;241;43m=\u001B[39;49m\u001B[43mdtype\u001B[49m\u001B[43m,\u001B[49m\u001B[43m \u001B[49m\u001B[43mcopy\u001B[49m\u001B[38;5;241;43m=\u001B[39;49m\u001B[43mcopy\u001B[49m\u001B[43m,\u001B[49m\u001B[43m \u001B[49m\u001B[43merrors\u001B[49m\u001B[38;5;241;43m=\u001B[39;49m\u001B[43merrors\u001B[49m\u001B[43m)\u001B[49m\n\u001B[1;32m   6241\u001B[0m     \u001B[38;5;28;01mreturn\u001B[39;00m \u001B[38;5;28mself\u001B[39m\u001B[38;5;241m.\u001B[39m_constructor(new_data)\u001B[38;5;241m.\u001B[39m__finalize__(\u001B[38;5;28mself\u001B[39m, method\u001B[38;5;241m=\u001B[39m\u001B[38;5;124m\"\u001B[39m\u001B[38;5;124mastype\u001B[39m\u001B[38;5;124m\"\u001B[39m)\n\u001B[1;32m   6243\u001B[0m \u001B[38;5;66;03m# GH 33113: handle empty frame or series\u001B[39;00m\n",
      "File \u001B[0;32m~/predict/intentional/src/main/python/venv/lib/python3.8/site-packages/pandas/core/internals/managers.py:448\u001B[0m, in \u001B[0;36mBaseBlockManager.astype\u001B[0;34m(self, dtype, copy, errors)\u001B[0m\n\u001B[1;32m    447\u001B[0m \u001B[38;5;28;01mdef\u001B[39;00m\u001B[38;5;250m \u001B[39m\u001B[38;5;21mastype\u001B[39m(\u001B[38;5;28mself\u001B[39m: T, dtype, copy: \u001B[38;5;28mbool\u001B[39m \u001B[38;5;241m=\u001B[39m \u001B[38;5;28;01mFalse\u001B[39;00m, errors: \u001B[38;5;28mstr\u001B[39m \u001B[38;5;241m=\u001B[39m \u001B[38;5;124m\"\u001B[39m\u001B[38;5;124mraise\u001B[39m\u001B[38;5;124m\"\u001B[39m) \u001B[38;5;241m-\u001B[39m\u001B[38;5;241m>\u001B[39m T:\n\u001B[0;32m--> 448\u001B[0m     \u001B[38;5;28;01mreturn\u001B[39;00m \u001B[38;5;28;43mself\u001B[39;49m\u001B[38;5;241;43m.\u001B[39;49m\u001B[43mapply\u001B[49m\u001B[43m(\u001B[49m\u001B[38;5;124;43m\"\u001B[39;49m\u001B[38;5;124;43mastype\u001B[39;49m\u001B[38;5;124;43m\"\u001B[39;49m\u001B[43m,\u001B[49m\u001B[43m \u001B[49m\u001B[43mdtype\u001B[49m\u001B[38;5;241;43m=\u001B[39;49m\u001B[43mdtype\u001B[49m\u001B[43m,\u001B[49m\u001B[43m \u001B[49m\u001B[43mcopy\u001B[49m\u001B[38;5;241;43m=\u001B[39;49m\u001B[43mcopy\u001B[49m\u001B[43m,\u001B[49m\u001B[43m \u001B[49m\u001B[43merrors\u001B[49m\u001B[38;5;241;43m=\u001B[39;49m\u001B[43merrors\u001B[49m\u001B[43m)\u001B[49m\n",
      "File \u001B[0;32m~/predict/intentional/src/main/python/venv/lib/python3.8/site-packages/pandas/core/internals/managers.py:352\u001B[0m, in \u001B[0;36mBaseBlockManager.apply\u001B[0;34m(self, f, align_keys, ignore_failures, **kwargs)\u001B[0m\n\u001B[1;32m    350\u001B[0m         applied \u001B[38;5;241m=\u001B[39m b\u001B[38;5;241m.\u001B[39mapply(f, \u001B[38;5;241m*\u001B[39m\u001B[38;5;241m*\u001B[39mkwargs)\n\u001B[1;32m    351\u001B[0m     \u001B[38;5;28;01melse\u001B[39;00m:\n\u001B[0;32m--> 352\u001B[0m         applied \u001B[38;5;241m=\u001B[39m \u001B[38;5;28;43mgetattr\u001B[39;49m\u001B[43m(\u001B[49m\u001B[43mb\u001B[49m\u001B[43m,\u001B[49m\u001B[43m \u001B[49m\u001B[43mf\u001B[49m\u001B[43m)\u001B[49m\u001B[43m(\u001B[49m\u001B[38;5;241;43m*\u001B[39;49m\u001B[38;5;241;43m*\u001B[39;49m\u001B[43mkwargs\u001B[49m\u001B[43m)\u001B[49m\n\u001B[1;32m    353\u001B[0m \u001B[38;5;28;01mexcept\u001B[39;00m (\u001B[38;5;167;01mTypeError\u001B[39;00m, \u001B[38;5;167;01mNotImplementedError\u001B[39;00m):\n\u001B[1;32m    354\u001B[0m     \u001B[38;5;28;01mif\u001B[39;00m \u001B[38;5;129;01mnot\u001B[39;00m ignore_failures:\n",
      "File \u001B[0;32m~/predict/intentional/src/main/python/venv/lib/python3.8/site-packages/pandas/core/internals/blocks.py:526\u001B[0m, in \u001B[0;36mBlock.astype\u001B[0;34m(self, dtype, copy, errors)\u001B[0m\n\u001B[1;32m    508\u001B[0m \u001B[38;5;250m\u001B[39m\u001B[38;5;124;03m\"\"\"\u001B[39;00m\n\u001B[1;32m    509\u001B[0m \u001B[38;5;124;03mCoerce to the new dtype.\u001B[39;00m\n\u001B[1;32m    510\u001B[0m \n\u001B[0;32m   (...)\u001B[0m\n\u001B[1;32m    522\u001B[0m \u001B[38;5;124;03mBlock\u001B[39;00m\n\u001B[1;32m    523\u001B[0m \u001B[38;5;124;03m\"\"\"\u001B[39;00m\n\u001B[1;32m    524\u001B[0m values \u001B[38;5;241m=\u001B[39m \u001B[38;5;28mself\u001B[39m\u001B[38;5;241m.\u001B[39mvalues\n\u001B[0;32m--> 526\u001B[0m new_values \u001B[38;5;241m=\u001B[39m \u001B[43mastype_array_safe\u001B[49m\u001B[43m(\u001B[49m\u001B[43mvalues\u001B[49m\u001B[43m,\u001B[49m\u001B[43m \u001B[49m\u001B[43mdtype\u001B[49m\u001B[43m,\u001B[49m\u001B[43m \u001B[49m\u001B[43mcopy\u001B[49m\u001B[38;5;241;43m=\u001B[39;49m\u001B[43mcopy\u001B[49m\u001B[43m,\u001B[49m\u001B[43m \u001B[49m\u001B[43merrors\u001B[49m\u001B[38;5;241;43m=\u001B[39;49m\u001B[43merrors\u001B[49m\u001B[43m)\u001B[49m\n\u001B[1;32m    528\u001B[0m new_values \u001B[38;5;241m=\u001B[39m maybe_coerce_values(new_values)\n\u001B[1;32m    529\u001B[0m newb \u001B[38;5;241m=\u001B[39m \u001B[38;5;28mself\u001B[39m\u001B[38;5;241m.\u001B[39mmake_block(new_values)\n",
      "File \u001B[0;32m~/predict/intentional/src/main/python/venv/lib/python3.8/site-packages/pandas/core/dtypes/astype.py:299\u001B[0m, in \u001B[0;36mastype_array_safe\u001B[0;34m(values, dtype, copy, errors)\u001B[0m\n\u001B[1;32m    296\u001B[0m     \u001B[38;5;28;01mreturn\u001B[39;00m values\u001B[38;5;241m.\u001B[39mcopy()\n\u001B[1;32m    298\u001B[0m \u001B[38;5;28;01mtry\u001B[39;00m:\n\u001B[0;32m--> 299\u001B[0m     new_values \u001B[38;5;241m=\u001B[39m \u001B[43mastype_array\u001B[49m\u001B[43m(\u001B[49m\u001B[43mvalues\u001B[49m\u001B[43m,\u001B[49m\u001B[43m \u001B[49m\u001B[43mdtype\u001B[49m\u001B[43m,\u001B[49m\u001B[43m \u001B[49m\u001B[43mcopy\u001B[49m\u001B[38;5;241;43m=\u001B[39;49m\u001B[43mcopy\u001B[49m\u001B[43m)\u001B[49m\n\u001B[1;32m    300\u001B[0m \u001B[38;5;28;01mexcept\u001B[39;00m (\u001B[38;5;167;01mValueError\u001B[39;00m, \u001B[38;5;167;01mTypeError\u001B[39;00m):\n\u001B[1;32m    301\u001B[0m     \u001B[38;5;66;03m# e.g. astype_nansafe can fail on object-dtype of strings\u001B[39;00m\n\u001B[1;32m    302\u001B[0m     \u001B[38;5;66;03m#  trying to convert to float\u001B[39;00m\n\u001B[1;32m    303\u001B[0m     \u001B[38;5;28;01mif\u001B[39;00m errors \u001B[38;5;241m==\u001B[39m \u001B[38;5;124m\"\u001B[39m\u001B[38;5;124mignore\u001B[39m\u001B[38;5;124m\"\u001B[39m:\n",
      "File \u001B[0;32m~/predict/intentional/src/main/python/venv/lib/python3.8/site-packages/pandas/core/dtypes/astype.py:230\u001B[0m, in \u001B[0;36mastype_array\u001B[0;34m(values, dtype, copy)\u001B[0m\n\u001B[1;32m    227\u001B[0m     values \u001B[38;5;241m=\u001B[39m values\u001B[38;5;241m.\u001B[39mastype(dtype, copy\u001B[38;5;241m=\u001B[39mcopy)\n\u001B[1;32m    229\u001B[0m \u001B[38;5;28;01melse\u001B[39;00m:\n\u001B[0;32m--> 230\u001B[0m     values \u001B[38;5;241m=\u001B[39m \u001B[43mastype_nansafe\u001B[49m\u001B[43m(\u001B[49m\u001B[43mvalues\u001B[49m\u001B[43m,\u001B[49m\u001B[43m \u001B[49m\u001B[43mdtype\u001B[49m\u001B[43m,\u001B[49m\u001B[43m \u001B[49m\u001B[43mcopy\u001B[49m\u001B[38;5;241;43m=\u001B[39;49m\u001B[43mcopy\u001B[49m\u001B[43m)\u001B[49m\n\u001B[1;32m    232\u001B[0m \u001B[38;5;66;03m# in pandas we don't store numpy str dtypes, so convert to object\u001B[39;00m\n\u001B[1;32m    233\u001B[0m \u001B[38;5;28;01mif\u001B[39;00m \u001B[38;5;28misinstance\u001B[39m(dtype, np\u001B[38;5;241m.\u001B[39mdtype) \u001B[38;5;129;01mand\u001B[39;00m \u001B[38;5;28missubclass\u001B[39m(values\u001B[38;5;241m.\u001B[39mdtype\u001B[38;5;241m.\u001B[39mtype, \u001B[38;5;28mstr\u001B[39m):\n",
      "File \u001B[0;32m~/predict/intentional/src/main/python/venv/lib/python3.8/site-packages/pandas/core/dtypes/astype.py:140\u001B[0m, in \u001B[0;36mastype_nansafe\u001B[0;34m(arr, dtype, copy, skipna)\u001B[0m\n\u001B[1;32m    137\u001B[0m     \u001B[38;5;28;01mraise\u001B[39;00m \u001B[38;5;167;01mTypeError\u001B[39;00m(\u001B[38;5;124mf\u001B[39m\u001B[38;5;124m\"\u001B[39m\u001B[38;5;124mcannot astype a timedelta from [\u001B[39m\u001B[38;5;132;01m{\u001B[39;00marr\u001B[38;5;241m.\u001B[39mdtype\u001B[38;5;132;01m}\u001B[39;00m\u001B[38;5;124m] to [\u001B[39m\u001B[38;5;132;01m{\u001B[39;00mdtype\u001B[38;5;132;01m}\u001B[39;00m\u001B[38;5;124m]\u001B[39m\u001B[38;5;124m\"\u001B[39m)\n\u001B[1;32m    139\u001B[0m \u001B[38;5;28;01melif\u001B[39;00m np\u001B[38;5;241m.\u001B[39missubdtype(arr\u001B[38;5;241m.\u001B[39mdtype, np\u001B[38;5;241m.\u001B[39mfloating) \u001B[38;5;129;01mand\u001B[39;00m is_integer_dtype(dtype):\n\u001B[0;32m--> 140\u001B[0m     \u001B[38;5;28;01mreturn\u001B[39;00m \u001B[43m_astype_float_to_int_nansafe\u001B[49m\u001B[43m(\u001B[49m\u001B[43marr\u001B[49m\u001B[43m,\u001B[49m\u001B[43m \u001B[49m\u001B[43mdtype\u001B[49m\u001B[43m,\u001B[49m\u001B[43m \u001B[49m\u001B[43mcopy\u001B[49m\u001B[43m)\u001B[49m\n\u001B[1;32m    142\u001B[0m \u001B[38;5;28;01melif\u001B[39;00m is_object_dtype(arr\u001B[38;5;241m.\u001B[39mdtype):\n\u001B[1;32m    143\u001B[0m \n\u001B[1;32m    144\u001B[0m     \u001B[38;5;66;03m# if we have a datetime/timedelta array of objects\u001B[39;00m\n\u001B[1;32m    145\u001B[0m     \u001B[38;5;66;03m# then coerce to a proper dtype and recall astype_nansafe\u001B[39;00m\n\u001B[1;32m    147\u001B[0m     \u001B[38;5;28;01mif\u001B[39;00m is_datetime64_dtype(dtype):\n",
      "File \u001B[0;32m~/predict/intentional/src/main/python/venv/lib/python3.8/site-packages/pandas/core/dtypes/astype.py:182\u001B[0m, in \u001B[0;36m_astype_float_to_int_nansafe\u001B[0;34m(values, dtype, copy)\u001B[0m\n\u001B[1;32m    178\u001B[0m \u001B[38;5;250m\u001B[39m\u001B[38;5;124;03m\"\"\"\u001B[39;00m\n\u001B[1;32m    179\u001B[0m \u001B[38;5;124;03mastype with a check preventing converting NaN to an meaningless integer value.\u001B[39;00m\n\u001B[1;32m    180\u001B[0m \u001B[38;5;124;03m\"\"\"\u001B[39;00m\n\u001B[1;32m    181\u001B[0m \u001B[38;5;28;01mif\u001B[39;00m \u001B[38;5;129;01mnot\u001B[39;00m np\u001B[38;5;241m.\u001B[39misfinite(values)\u001B[38;5;241m.\u001B[39mall():\n\u001B[0;32m--> 182\u001B[0m     \u001B[38;5;28;01mraise\u001B[39;00m IntCastingNaNError(\n\u001B[1;32m    183\u001B[0m         \u001B[38;5;124m\"\u001B[39m\u001B[38;5;124mCannot convert non-finite values (NA or inf) to integer\u001B[39m\u001B[38;5;124m\"\u001B[39m\n\u001B[1;32m    184\u001B[0m     )\n\u001B[1;32m    185\u001B[0m \u001B[38;5;28;01mif\u001B[39;00m dtype\u001B[38;5;241m.\u001B[39mkind \u001B[38;5;241m==\u001B[39m \u001B[38;5;124m\"\u001B[39m\u001B[38;5;124mu\u001B[39m\u001B[38;5;124m\"\u001B[39m:\n\u001B[1;32m    186\u001B[0m     \u001B[38;5;66;03m# GH#45151\u001B[39;00m\n\u001B[1;32m    187\u001B[0m     \u001B[38;5;28;01mif\u001B[39;00m \u001B[38;5;129;01mnot\u001B[39;00m (values \u001B[38;5;241m>\u001B[39m\u001B[38;5;241m=\u001B[39m \u001B[38;5;241m0\u001B[39m)\u001B[38;5;241m.\u001B[39mall():\n",
      "\u001B[0;31mIntCastingNaNError\u001B[0m: Cannot convert non-finite values (NA or inf) to integer"
     ]
    }
   ],
   "execution_count": 12
  }
 ],
 "metadata": {
  "kernelspec": {
   "display_name": "Python 3 (ipykernel)",
   "language": "python",
   "name": "python3"
  },
  "language_info": {
   "codemirror_mode": {
    "name": "ipython",
    "version": 3
   },
   "file_extension": ".py",
   "mimetype": "text/x-python",
   "name": "python",
   "nbconvert_exporter": "python",
   "pygments_lexer": "ipython3",
   "version": "3.10.13"
  }
 },
 "nbformat": 4,
 "nbformat_minor": 4
}
